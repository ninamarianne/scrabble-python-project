{
 "cells": [
  {
   "cell_type": "markdown",
   "metadata": {},
   "source": [
    "## Aufgabenstellung\n",
    "Implementieren Sie ein Spiel, das im weiteren Sinne von dem Spiel \"scrabble\" inspiriert ist. Ungefähr so: Der Computer gibt dem Spieler eine zufällige Auswahl an Buchstaben, aus denen dieser ein möglichst langes Wort machen soll. Wenn dieses als gültiges Wort erkannt wird (wie? welche Information wird dazu benötigt?), wird es nach den Scrabble-Regeln bewertet.\n",
    "\n",
    "Sie können dieses Projekt schrittweise aufbauen, und z.B. mit einer Minimalvariante beginnen ohne Spielbrett und nur mit Buchstaben, aus denen ein Wort gebildet werden soll. Dies können Sie dann weiter verkomplizieren.\n"
   ]
  },
  {
   "cell_type": "markdown",
   "metadata": {},
   "source": [
    "## Die einzelnen Funktionen:"
   ]
  },
  {
   "cell_type": "markdown",
   "metadata": {},
   "source": [
    "#### Zufallsgenerator\n",
    "- das Modul random importieren\n",
    "- eine Liste erstellen, wo alle Buchstaben mit der jeweiligen Verteilung vorkommen (z.B. muss das 'A' 5 mal vorkommen und das 'Q' nur einmal), sodass die Wahrscheinlichkeit größer ist, ein 'A' zu bekommen, als ein 'Q' -> so kann gewährleistet werden, dass der Benutzer auch Vokale bekommt\n",
    "- sieben Variablen definieren, welche unter Verwendung von random.choice einen zufälligen Buchstaben ausgeben "
   ]
  },
  {
   "cell_type": "code",
   "execution_count": 2,
   "metadata": {},
   "outputs": [
    {
     "name": "stdout",
     "output_type": "stream",
     "text": [
      "N E A G S C D\n"
     ]
    }
   ],
   "source": [
    "import random\n",
    "buchstabenliste = ['A', 'A', 'A', 'A', 'A', \n",
    "        'Ä',\n",
    "        'B', 'B',\n",
    "        'C', 'C',\n",
    "        'D', 'D', 'D', 'D',\n",
    "        'E', 'E', 'E', 'E', 'E', 'E', 'E', 'E', 'E', 'E', 'E', 'E', 'E', 'E', 'E',\n",
    "        'F', 'F',\n",
    "        'G', 'G', 'G',\n",
    "        'H', 'H', 'H', 'H',\n",
    "        'I', 'I', 'I', 'I', 'I', 'I',\n",
    "        'J',\n",
    "        'K', 'K',\n",
    "        'L', 'L', 'L',\n",
    "        'M', 'M', 'M', 'M',\n",
    "        'N', 'N', 'N', 'N', 'N', 'N', 'N', 'N', 'N',\n",
    "        'O', 'O', 'O',\n",
    "        'Ö',\n",
    "        'P',\n",
    "        'Q',\n",
    "        'R', 'R', 'R', 'R', 'R', 'R',\n",
    "        'S', 'S', 'S', 'S', 'S', 'S', 'S',\n",
    "        'T', 'T', 'T', 'T', 'T', 'T',\n",
    "        'U', 'U', 'U', 'U', 'U', 'U',\n",
    "        'Ü',\n",
    "        'V',\n",
    "        'W',\n",
    "        'X',\n",
    "        'Y',\n",
    "        'Z',\n",
    "        '_', '_']\n",
    "\n",
    "#jeder Spieler darf sieben Buchstaben ziehen\n",
    "l_one = random.choice(buchstabenliste)\n",
    "l_two = random.choice(buchstabenliste)\n",
    "l_three = random.choice(buchstabenliste)\n",
    "l_four = random.choice(buchstabenliste)\n",
    "l_four = random.choice(buchstabenliste)\n",
    "l_five = random.choice(buchstabenliste)\n",
    "l_six = random.choice(buchstabenliste)\n",
    "l_seven = random.choice(buchstabenliste)\n",
    "\n",
    "print l_one, l_two, l_three, l_four, l_five, l_six, l_seven"
   ]
  },
  {
   "cell_type": "code",
   "execution_count": null,
   "metadata": {},
   "outputs": [],
   "source": []
  },
  {
   "cell_type": "markdown",
   "metadata": {},
   "source": [
    "#### Worttester\n",
    "Ist ein Wort gültig oder nicht?\n",
    "- eine Datei erstellen, in der möglichst viele Wörter vorkommen, und dann testen, ob das Inputwort in der Datei vorkommt \n",
    "- wenn das Inputwort nur im Zusammenhang mit einem Satzzeichen vorkommen würde, dann würde es nicht gefunden werden, deshalb braucht man einen regulären Ausdruck, der diesen Fall abdeckt\n",
    "- (\\s+)+user_word+(,|\\?|\\.|;|:|!)(\\s+) = vor dem Wort muss mindestens ein Whitespace-Character stehen, nach dem Wort kann eines der aufgelisteten Satzzeichen stehen und es muss wieder mindestens ein Whitespace-Character folgen\n",
    "- jetzt muss man den regulären Ausdruck (falls in der Datei vorhanden) durch das Inputwort ersetzen in der Datei\n",
    "- da die Datei in die einzelnen Wörter aufgeplittet wird, muss das Inputwort in einer eigenen Zeile stehen, deshalb benötigt man hier auch nochmal einen regulären Ausdruck\n",
    "- durch re.sub wird also die Datei verändert, sodass ein Wort, welches nur im Zusammenhang mit einem Satzzeichen vorkommt, ersetzt wird, durch dasselbe Wort, nur ohne Satzzeichen\n",
    "- falls das Inputwort auch mit Satzzeichen nicht in der Datei vorkommt, würde re.sub nichts an der Wortsammlungsdatei ändern und das Wort würde nicht gefunden werden"
   ]
  },
  {
   "cell_type": "code",
   "execution_count": 17,
   "metadata": {},
   "outputs": [
    {
     "name": "stdout",
     "output_type": "stream",
     "text": [
      "... Rubin\n",
      "Das Wort ist wohl nicht in der Wortsammlung!\n"
     ]
    }
   ],
   "source": [
    "import re\n",
    "with open('wortsammlung.txt', 'r') as file:\n",
    "    Wortsammlung = file.read()\n",
    "\n",
    "user_word = raw_input('... ').lower()\n",
    "x = re.sub(r'(\\s+'+user_word+r'(,|\\?|\\.|;|:|!)?\\s+)', r'\\n'+user_word+r'\\n', str(Wortsammlung).lower())\n",
    "y = user_word in x.split()\n",
    "if y == 1:\n",
    "    print 'Super!'\n",
    "else:\n",
    "    print 'Das Wort ist wohl nicht in der Wortsammlung!'\n"
   ]
  },
  {
   "cell_type": "code",
   "execution_count": null,
   "metadata": {},
   "outputs": [],
   "source": []
  },
  {
   "cell_type": "markdown",
   "metadata": {},
   "source": [
    "#### Buchstabentester\n",
    "Werden wirklich die Buchstaben benutzt, die benutzt werden dürfen?\n",
    "- die Buchstaben, die dem User zufällig ausgegeben werden, müssen in Form von einer Liste gespeichert werden\n",
    "- das Programm muss jeden Buchstaben des Inputwortes durchgehen und schauen, ob er in der User-Buchstabenliste vorkommt\n",
    "- wenn der Buchstabe des Wortes in der Liste vorkommt, dann muss er aus der Liste gelöscht werden, sodass er nicht mehrmals benutzt werden kann\n"
   ]
  },
  {
   "cell_type": "code",
   "execution_count": 20,
   "metadata": {},
   "outputs": [
    {
     "name": "stdout",
     "output_type": "stream",
     "text": [
      "['N', 'E', 'A', 'G', 'S', 'C', 'D']\n",
      "Nenne ein Wort:  sagen\n"
     ]
    }
   ],
   "source": [
    "buchstabenwahl = [l_one, l_two, l_three, l_four, l_five, l_six, l_seven]\n",
    "print buchstabenwahl\n",
    "\n",
    "wort = raw_input('Nenne ein Wort:  ').upper()\n",
    "#Prüfer\n",
    "#benutzte_buchstaben = []\n",
    "for letter in wort:\n",
    "    if letter in buchstabenwahl:\n",
    "        #benutzte_buchstaben.append(letter)\n",
    "        buchstabenwahl.remove(letter)\n",
    "                \n",
    "    else:\n",
    "        print 'Du hast falsche Buchstaben benutzt!'\n"
   ]
  },
  {
   "cell_type": "code",
   "execution_count": null,
   "metadata": {},
   "outputs": [],
   "source": []
  },
  {
   "cell_type": "markdown",
   "metadata": {},
   "source": [
    "#### Punkteverteilung für die Buchstaben\n",
    "- bei Scrabble ist jedem Buchstaben eine bestimmte Punktzahl zugeteilt und der Spieler bekommt je nach dem, welche Buchstaben er benutzt hat, eine bestimmte Punktzahl\n",
    "- man braucht also ein Dictionary, welches jedem Buchstaben eine Punktzahl zuordnet\n",
    "- dann muss das Programm wieder jeden Buchstaben des Inputwortes durchgehen und ihn in dem Dictionary suchen\n",
    "- die Buchstaben sind die Schlüssel im Dictionary, wenn also der Buchstabe gefunden wurde, muss das Programm auf dessen Wert zugreifen\n",
    "- der Wert muss dann einer Liste hinzugefügt werden\n",
    "- am Ende muss die Liste aufsummiert werden"
   ]
  },
  {
   "cell_type": "code",
   "execution_count": 27,
   "metadata": {},
   "outputs": [
    {
     "name": "stdout",
     "output_type": "stream",
     "text": [
      "Wort: Xylophon\n",
      "XYLOPHON 31\n"
     ]
    }
   ],
   "source": [
    "punktzahl = {'A': 1,'Ä': 6,'B': 3,'C': 4,'D': 1,'E': 1,\n",
    "            'F': 4,'G': 2,'H': 2,'I': 1,'J': 6,'K': 4,\n",
    "            'L': 2,'M': 3,'N': 1,'O': 2,'Ö': 8,'P': 4,\n",
    "            'Q': 10,'R': 1,'S': 1,'T': 1,'U': 1,'Ü': 6,\n",
    "            'V': 6,'W': 3,'X': 8,'Y': 10,'Z': 3}\n",
    "\n",
    "my_word = raw_input('Wort: ').upper()\n",
    "spieler_punkte = []\n",
    "for letter in my_word:\n",
    "    if letter in punktzahl:\n",
    "        punkte = punktzahl[letter]\n",
    "        spieler_punkte.append(punkte)\n",
    "        gesamtpunktzahl = sum(spieler_punkte)\n",
    "print my_word, gesamtpunktzahl"
   ]
  },
  {
   "cell_type": "code",
   "execution_count": null,
   "metadata": {},
   "outputs": [],
   "source": []
  },
  {
   "cell_type": "markdown",
   "metadata": {},
   "source": [
    "#### Testen eines Wortes mit veränderbarem Buchstaben\n",
    "- bei Scrabble gibt es auch die Möglichkeit Blankosteine zu legen, bei denen der Spieler sich aussuchen kann, welcher Buchstabe an die Stelle gesetzt werden soll\n",
    "- damit nach demselben Prinzip wie vorher überprüft werden kann, ob das Wort in der Datei vorkommt bzw., ob der Spieler die erlaubten Buchstaben benutzt hat, muss zuerst das Blankoelement in der zufälligen Buchstabenauswahl und dem Inputwort durch den vom Spieler gewünschten Buchstaben ersetzt werden\n",
    "- dann kann das \"neue\" Wort wieder auf Vorkommen in der Datei und auf die benutzten Buchstaben getestet werden"
   ]
  },
  {
   "cell_type": "code",
   "execution_count": 35,
   "metadata": {},
   "outputs": [],
   "source": [
    "letter_list = ['L', 'I', 'N', '_', 'U', 'I', 'S', 'T', 'I', 'K']\n",
    "spieler_wort = 'LIN_UISTIK'\n",
    "user_letter = 'G'\n",
    "\n",
    "neue_buchstabenauswahl = re.sub('_', user_letter, str(letter_list))\n",
    "new_word = re.sub('_', user_letter, spieler_wort)\n",
    "new_lower = new_word.lower()\n",
    "second_changed_file = re.sub(r'(\\s+'+new_lower+r'(,|\\?|\\.|;|:|!)?\\s+)', r'\\n'+new_lower+r'\\n', \n",
    "                             str(Wortsammlung.lower()))\n",
    "\n",
    "if new_lower in second_changed_file.split():\n",
    "    for letter in new_word:\n",
    "        if letter in neue_buchstabenauswahl:\n",
    "            list(neue_buchstabenauswahl).remove(letter)\n",
    "        else:\n",
    "            print 'Du hast falsche Buchstaben benutzt!'\n",
    "else:\n",
    "    print 'Das Wort ist wohl nicht in der Wortsammlung!'"
   ]
  },
  {
   "cell_type": "code",
   "execution_count": null,
   "metadata": {},
   "outputs": [],
   "source": []
  },
  {
   "cell_type": "markdown",
   "metadata": {},
   "source": [
    "#### die graphische Oberfläche\n",
    "- mit dem Modul Tkinter und der Funktion *Tk()* lässt sich ein Fenster aufrufen\n",
    "- das Spielbrett sollte acht Eingabefelder beinhalten, weil das Inputwort aus bis zu sieben Buchstaben bestehen kann, das achte Eingabefeld sollte für den Fall sein, dass der Spieler ein Blankoelement hat und sich einen eigenen Buchstaben überlegen darf\n",
    "- Eingabefelder lassen sich in Tkinter mit der Funktion *Entry()* definieren\n",
    "- dann habe ich noch die Funktionen *Label()* und *Button()* benutzt\n",
    "- mit *Label()* kann man ein Element erstellen, dass der Benutzer sich nur anschauen, mit dem er aber nicht interagieren kann\n",
    "- mit *Button()* hingegen lässt sich ein Element erstellen, mit dem der Benutzer interagieren kann\n",
    "- damit *Button()* weiß, was es tun soll, wenn es aktiviert wird, nimmt es den Befehl *command=* entgegen\n",
    "- *command=* kann beliebige Funktionen entgegennehmen, die erst dann ausgeführt werden, wenn der Button vom Benutzer angeklickt wird, z.B. hier die Funktion *points_for_place()*\n",
    "- *points_for_place()* prüft, ob der vom User eingegebene Wert in der Liste *value* vorkommt und verteilt Punkte\n",
    "- mit *get()* wird das, was der User in ein Entry-Feld eintippt übernommen\n",
    "- damit der Text, den ein Label ausgeben soll, sich je nach Umstand ändern kann, muss man *config()* auf das Label anwenden\n"
   ]
  },
  {
   "cell_type": "code",
   "execution_count": 2,
   "metadata": {},
   "outputs": [],
   "source": [
    "from Tkinter import *\n",
    "\n",
    "def points_for_place(value = ['A','B','C','D','E','F','G','H','I','J','K','L',\n",
    "                            'M','N','O','P','Q','R','S','T','U','V','W','X','Y','Z']):\n",
    "    place_points = []\n",
    "    if letter_one.get() in value:\n",
    "        place_points.append(1)\n",
    "    else:\n",
    "        place_points.append(0)\n",
    "    if letter_two.get() in value:\n",
    "        place_points.append(1)\n",
    "    else:\n",
    "        place_points.append(0)\n",
    "    if letter_three.get() in value:\n",
    "        place_points.append(1)\n",
    "    else:\n",
    "        place_points.append(0)\n",
    "    if letter_four.get() in value:\n",
    "        place_points.append(2)\n",
    "    else:\n",
    "        place_points.append(0)\n",
    "    if letter_five.get() in value:\n",
    "        place_points.append(2)\n",
    "    else:\n",
    "        place_points.append(0)\n",
    "    if letter_six.get() in value:\n",
    "        place_points.append(4)\n",
    "    else:\n",
    "        place_points.append(0)\n",
    "    if letter_seven.get() in value:\n",
    "        place_points.append(6)\n",
    "    else:\n",
    "        place_points.append(0)\n",
    "        \n",
    "    all_points = sum(place_points)\n",
    "    punkte_label.config(text=str(all_points)+' Punkte')\n",
    "\n",
    "fenster = Tk()\n",
    "fenster.title(\"Mein Scrabble\")\n",
    "fenster.config(bg='light coral')\n",
    "\n",
    "# Label und Buttons erstellen.\n",
    "welcome_label = Label(fenster, text= '''\\\n",
    "Willkommen zum virtuellen Scrabble!\n",
    "\n",
    "Vorab ein paar Spielregeln:\n",
    "Du bekommst eine zufällige Auswahl an Buchstaben.\n",
    "Aus diesen Buchstaben sollst Du ein Wort der deutschen Sprache bilden.\n",
    "Eigennamen sind nicht erlaubt! Das Wort sollte so lang wie möglich sein, \n",
    "wobei Du aber jedes Buchstabenvorkommen nur einmal benutzen darfst!\n",
    "Wenn Du ein Blankoelement hast, dann darfst Du dafür einen Buchstaben \n",
    "Deiner Wahl einsetzen. Die Buchstaben müssen in der richtigen Reihen-\n",
    "folge gesetzt werden, dürfen aber in beliebige Felder geschrieben werden.\n",
    "\n",
    "Viel Spaß und los geht's! \n",
    "\n",
    "''', bg='orange red', font='comic 11')\n",
    "instruction_label = Label(fenster, text='''\\\n",
    "Nenne \n",
    "ein Wort:''', bg='orange red')\n",
    "field_one = Label(fenster, text='1 Punkt', bg='light coral')\n",
    "field_two = Label(fenster, text='1 Punkt', bg='light coral')\n",
    "field_three = Label(fenster, text='1 Punkt', bg='light coral')\n",
    "field_four = Label(fenster, text='2 Punkte', bg='light coral')\n",
    "field_five = Label(fenster, text='2 Punkte', bg='light coral')\n",
    "field_six = Label(fenster, text='4 Punkte', bg='light coral')\n",
    "field_seven = Label(fenster, text='6 Punkte', bg='light coral')\n",
    "punkte_label = Label(fenster, bg='light coral')\n",
    "\n",
    "letter_one = Entry(fenster, font='arial 15 bold')\n",
    "letter_two = Entry(fenster, font='arial 15 bold')\n",
    "letter_three = Entry(fenster, font='arial 15 bold')\n",
    "letter_four = Entry(fenster, font='arial 15 bold')\n",
    "letter_five = Entry(fenster, font='arial 15 bold')\n",
    "letter_six = Entry(fenster, font='arial 15 bold')\n",
    "letter_seven = Entry(fenster, font='arial 15 bold')\n",
    "\n",
    "punkte_button = Button(fenster, text=\"Punkte:\", bg='red', command=points_for_place)\n",
    "exit_button = Button(fenster, text=\"Beenden\", bg='red', command=fenster.destroy)\n",
    "\n",
    "# Größe des Fensters\n",
    "fenster.geometry(\"700x650\")\n",
    "\n",
    "# Größe der Komponenten\n",
    "welcome_label.place(x = 50, y = 0, width=600, height=250)\n",
    "instruction_label.place(x = 20, y = 370)\n",
    "punkte_label.place(x = 180, y = 620)\n",
    "field_one.place(x = 80, y = 420, width=80, height=40)\n",
    "field_two.place(x = 160, y = 420, width=80, height=40)\n",
    "field_three.place(x = 240, y = 420, width=80, height=40)\n",
    "field_four.place(x = 320, y = 420, width=80, height=40)\n",
    "field_five.place(x = 400, y = 420, width=80, height=40)\n",
    "field_six.place(x = 480, y = 420, width=80, height=40)\n",
    "field_seven.place(x = 560, y = 420, width=80, height=40)\n",
    "\n",
    "letter_one.place(x = 100, y = 370, width=40, height=40 )\n",
    "letter_two.place(x = 180, y = 370, width=40, height=40 )\n",
    "letter_three.place(x = 260, y = 370, width=40, height=40 )\n",
    "letter_four.place(x = 340, y = 370, width=40, height=40 )\n",
    "letter_five.place(x = 420, y = 370, width=40, height=40 )\n",
    "letter_six.place(x = 500, y = 370, width=40, height=40 )\n",
    "letter_seven.place(x = 580, y = 370, width=40, height=40 )\n",
    "\n",
    "punkte_button.place(x = 0, y = 600, width=150, height=50)\n",
    "exit_button.place(x = 550, y = 600, width=150, height=50)\n",
    "\n",
    "# In der Ereignisschleife auf Eingabe des Benutzers warten.\n",
    "fenster.mainloop()"
   ]
  },
  {
   "cell_type": "code",
   "execution_count": null,
   "metadata": {},
   "outputs": [],
   "source": []
  },
  {
   "cell_type": "markdown",
   "metadata": {},
   "source": [
    "## Meine Vorgehensweise: "
   ]
  },
  {
   "cell_type": "markdown",
   "metadata": {},
   "source": [
    "Angefangen habe ich damit, einen Zufallsgenerator zu generieren. Meine erste Lösung sah wie folgt aus: a = random.randint(65,90) und dann chr(a). Ich hatte also einen Zufallsgenerator, der sich der ASCII-Tabelle bedient, um die Zahlen in Buchstaben umzuwandeln. Doch damit die Wahrscheinlichkeit größer ist, dass bestimmte Buchstaben häufiger vorkommen, habe ich dann selber eine Liste geschrieben. \n",
    "Danach habe ich den Worttester geschrieben, wobei ich zuerst nur geprüft habe, ob ein Wort in einer Datei vorkommt. Da aber auch einzelne Buchstaben als gültiges Wort erkannt wurden, musste ich split() auf die Datei anwenden. Doch dann wurden Wörter, die nur in Verbindung mit Satzzeichen vorhanden sind, nicht mehr gefunden.\n",
    "Also habe ich mir einen regulären Ausdruck überlegt, der dann durch einen weiteren regulären Ausdruck ersetzt wird, damit ich wieder in der Datei nach dem Wort suchen kann. \n",
    "Als nächsten Schritt fügte ich den Zufallsgenerator und den Worttester zusammen. Dann legte ich das Dictionary mit den Punktzahlen für die einzelnen Buchstaben an und überlegte mir eine Funktion, die für ein Inputwort die Punktzahl zurückgibt. \n",
    "Als nächstes stellte ich mir die Frage, wie ich testen könnte, ob wirklich die Buchstaben benutzt werden, die benutzt werden dürfen, also die Buchstaben, welche der Zufallsgenerator dem Benutzer ausgibt. Dann schrieb ich den Buchstabentester. \n",
    "Danach überlegte ich, an welcher Stelle und in welcher Reihenfolge der Worttester, Buchstabentester und Punkteverteiler ausgeführt werden sollten. An dieser Stelle entschied ich mich auch dazu, den Zufallsgenerator und den Worttester wieder zu trennen und mehrere kleine, einzelne Funktionen zu erstellen. Wenn das Testen des Wortes positiv ausfällt, sollten die Buchstaben getestet werden, und wenn auch das positiv ausfällt, sollte der Punkteverteiler ausgeführt werden. \n",
    "Als nächstes dachte ich, dass es schön wäre, wenn es wie beim echten Scrabble eine Art Blankostein gäbe. \n",
    "Doch, um das Wort zu testen, muss die Blankostelle erst durch einen Buchstaben ersetzt werden. Und damit sichergestellt wird, dass der User auch den Buchstaben benutzt, den er eingegeben hat, muss auch in der zufälligen Buchstabenauswahlliste die Blankostelle durch den gewünschten Buchstaben ersetzt werden. \n",
    "Schließlich überlegte ich, wann diese Funktion ausgeführt werden sollte. Also baute ich das Programm so auf, dass in einer ersten if-Bedingung geprüft wird, ob das Eingabewort in der Datei vorkommt. Wenn das nicht der Fall ist, wird in einer elif-Bedingung getestet, ob in dem Wort ein Blankoelement vorkommt. Und wenn keine der beiden Bedingungen zutrifft, dann wird die Eingabe als ungültig angesehen. Falls die erste if-Bedingung zutrifft, werden die Buchstaben getestet. Wenn der Test positiv ist, wird die Punktzahl ausgegeben. Für den Fall, dass die elif-Bedingung zutrifft, wird erstmal geprüft, ob das Blankoelement überhaupt in der Buchstabenauswahl war. Wenn es diesen Test nicht gäbe, könnte der User nämlich einfach so tun, als ob er ein Blankoelement in seiner Buchstabenauswahl hätte. \n",
    "Nachdem das Programm soweit funktionierte, machte ich mich mit dem Modul Tkinter zum Erstellen von grahischen Oberflächen vertraut. Mit Tkinter lassen sich u.a. Buttons erstellen, die mit Funktionen verknüpft werden können. Wenn also ein  User auf den Button klickt, dann wird die Funktion ausgeführt, die mit dem Button verknüpft ist. So wartet das Programm immer auf die Eingabe des Users und tut erst etwas, wenn der User etwas gemacht hat. Ich habe in meinem Programm festgelegt, dass Worttester, Buchstabentester und Punkteverteiler erst ausgeführt werden, wenn der User auf den \"Ergebnis\"-Button klickt. Außerdem habe ich noch einen \"Neustart\"-Button implementiert, der das Fenster schließt und gleichzeitig mein komplettes Programm neu ausführt. Zum Schluss habe ich mir dann noch eine Funktion überlegt, mit der es möglich ist, dass der User auch Punkte für die jeweilige Position, an der die Buchstaben stehen, bekommt. \n"
   ]
  },
  {
   "cell_type": "markdown",
   "metadata": {},
   "source": [
    "## Prinzip des Programms: "
   ]
  },
  {
   "cell_type": "markdown",
   "metadata": {},
   "source": [
    "Mein Programm funktioniert so, dass der User bei Aufruf und Neustart (Button) des Programms eine zufällige Auswahl an Buchstaben zur Verfügung gestellt bekommt. Dann soll er aus den sieben Buchstaben ein Wort bilden. Die Buchstaben muss der User der Reihe nach in die dafür vorgesehenen Felder eingeben, wobei er auch Felder freilassen kann und nicht mit dem ersten Feld beginnen muss. Wenn der User auf den Ergebnis-Button drückt, wird geprüft, ob das Eingabewort in meiner Datei vorkommt usw. Falls der User zweimal hintereinander mit denselben Buchstaben ein Wort bildet und zweimal den Ergebnis-Button aktiviert, wird ihm beim zweiten Mal angezeigt, dass er falsche Buchstaben benutzt hat, weil jeder Buchstabe pro Fensteraufruf nur einmal benutzt werden kann. Jeder Buchstabe, der benutzt wurde, wird nämlich aus der Buchstabenauswahl gelöscht und so kann der User nicht dieselben Buchstaben mehrmals benutzen, sondern muss das Programm neustarten, um neue Buchstaben zu bekommen. Wenn dem User ein Blankoelement (dargestellt durch einen Unterstrich) angezeigt wird, darf er sich einen Buchstaben aussuchen, der das Blankoelement ersetzen soll. Er muss dann in das passende Kästchen den Unterstrich eintippen und in das Kästchen, wo der Buchstabe für das Blankoelement eingegeben werden soll, muss er den Buchstaben seiner Wahl eintippen. "
   ]
  },
  {
   "cell_type": "code",
   "execution_count": null,
   "metadata": {},
   "outputs": [],
   "source": []
  }
 ],
 "metadata": {
  "kernelspec": {
   "display_name": "Python 2",
   "language": "python",
   "name": "python2"
  },
  "language_info": {
   "codemirror_mode": {
    "name": "ipython",
    "version": 2
   },
   "file_extension": ".py",
   "mimetype": "text/x-python",
   "name": "python",
   "nbconvert_exporter": "python",
   "pygments_lexer": "ipython2",
   "version": "2.7.15rc1"
  }
 },
 "nbformat": 4,
 "nbformat_minor": 2
}
